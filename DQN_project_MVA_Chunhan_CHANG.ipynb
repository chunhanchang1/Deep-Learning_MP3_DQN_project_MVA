{
 "cells": [
  {
   "cell_type": "code",
   "execution_count": 17,
   "metadata": {
    "colab": {
     "base_uri": "https://localhost:8080/",
     "height": 134
    },
    "colab_type": "code",
    "id": "iVT-HMMjHmvP",
    "outputId": "c80fcf54-03ba-4692-eb02-75c53b6e6c2e"
   },
   "outputs": [
    {
     "name": "stdout",
     "output_type": "stream",
     "text": [
      "Requirement already satisfied: scikit-video in /usr/local/lib/python3.6/dist-packages (1.1.11)\n",
      "Requirement already satisfied: numpy in /usr/local/lib/python3.6/dist-packages (from scikit-video) (1.14.6)\n",
      "Requirement already satisfied: scipy in /usr/local/lib/python3.6/dist-packages (from scikit-video) (1.1.0)\n",
      "Requirement already satisfied: pillow in /usr/local/lib/python3.6/dist-packages (from scikit-video) (4.0.0)\n",
      "Requirement already satisfied: olefile in /usr/local/lib/python3.6/dist-packages (from pillow->scikit-video) (0.46)\n",
      "Requirement already satisfied: opencv-python in /usr/local/lib/python3.6/dist-packages (3.4.5.20)\n",
      "Requirement already satisfied: numpy>=1.11.3 in /usr/local/lib/python3.6/dist-packages (from opencv-python) (1.14.6)\n"
     ]
    }
   ],
   "source": [
    "!pip install scikit-video\n",
    "!pip install opencv-python"
   ]
  },
  {
   "cell_type": "code",
   "execution_count": 0,
   "metadata": {
    "colab": {},
    "colab_type": "code",
    "id": "SktmdkLfKJ63"
   },
   "outputs": [],
   "source": [
    "import keras\n",
    "import numpy as np\n",
    "import io\n",
    "import base64\n",
    "from IPython.display import HTML\n",
    "import skvideo.io\n",
    "\n",
    "import cv2\n",
    "import json\n",
    "import random\n",
    "\n",
    "from keras.engine.topology import Input\n",
    "from keras.models import Sequential,model_from_json, Model\n",
    "from keras.layers.core import Dense, Reshape, Flatten\n",
    "from keras.optimizers import sgd, adam\n",
    "from keras.layers import Conv2D, MaxPooling2D, Activation, AveragePooling2D,Reshape,BatchNormalization"
   ]
  },
  {
   "cell_type": "markdown",
   "metadata": {
    "colab_type": "text",
    "id": "1VyWNEDFVonN"
   },
   "source": [
    "# MiniProject #3: Deep Reinforcement Learning\n"
   ]
  },
  {
   "cell_type": "markdown",
   "metadata": {
    "colab_type": "text",
    "id": "yqVgJnriVweu"
   },
   "source": [
    "__Notations__: $E_p$ is the expectation under probability $p$. Please justify each of your answer and widely comment your code."
   ]
  },
  {
   "cell_type": "markdown",
   "metadata": {
    "colab_type": "text",
    "id": "u9lueWakVwzC"
   },
   "source": [
    "# Context"
   ]
  },
  {
   "cell_type": "markdown",
   "metadata": {
    "colab_type": "text",
    "id": "fmhTHnJXV23_"
   },
   "source": [
    "In a reinforcement learning algorithm, we modelize each step $t$ as an action $a_t$ obtained from a state $s_t$, i.e. $\\{(a_{t},s_{t})_{t\\leq T}\\}$ having the Markov property. We consider a discount factor $\\gamma \\in [0,1]$ that ensures convergence. The goal is to find among all the policies $\\pi$, one that maximizes the expected reward:\n",
    "\n",
    "\\begin{equation*}\n",
    "R(\\pi)=\\sum_{t\\leq T}E_{p^{\\pi}}[\\gamma^t r(s_{t},a_{t})] \\> ,\n",
    "\\end{equation*}\n",
    "\n",
    "where: \n",
    "\\begin{equation*}p^{\\pi}(a_{0},a_{1},s_{1},...,a_{T},s_{T})=p(a_{0})\\prod_{t=1}^{T}\\pi(a_{t}|s_{t})p(s_{t+1}|s_{t},a_{t}) \\> .\n",
    "\\end{equation*}\n",
    "\n",
    "We note the $Q$-function:\n",
    "\n",
    "\\begin{equation*}Q^\\pi(s,a)=E_{p^{\\pi}}[\\sum_{t\\leq T}\\gamma^{t}r(s_{t},a_{t})|s_{0}=s,a_{0}=a] \\> .\n",
    "\\end{equation*}\n",
    "\n",
    "Thus, the optimal Q function is:\n",
    "\\begin{equation*}\n",
    "Q^*(s,a)=\\max_{\\pi}Q^\\pi(s,a) \\> .\n",
    "\\end{equation*}\n",
    "\n",
    "In this project, we will apply the deep reinforcement learning techniques to a simple game: an agent will have to learn from scratch a policy that will permit it maximizing a reward."
   ]
  },
  {
   "cell_type": "markdown",
   "metadata": {
    "colab_type": "text",
    "id": "CP4eZmnNV6Hk"
   },
   "source": [
    "## The environment, the agent and the game"
   ]
  },
  {
   "cell_type": "markdown",
   "metadata": {
    "colab_type": "text",
    "id": "TGPAPn_lV9vc"
   },
   "source": [
    "### The environment"
   ]
  },
  {
   "cell_type": "markdown",
   "metadata": {
    "colab_type": "text",
    "id": "r5VJL7CiWAwk"
   },
   "source": [
    "```Environment``` is an abstract class that represents the states, rewards, and actions to obtain the new state."
   ]
  },
  {
   "cell_type": "code",
   "execution_count": 0,
   "metadata": {
    "colab": {},
    "colab_type": "code",
    "id": "ECJ3dyw9KSp1"
   },
   "outputs": [],
   "source": [
    "class Environment(object):\n",
    "    def __init__(self):\n",
    "        pass\n",
    "\n",
    "    def act(self, act):\n",
    "        \"\"\"\n",
    "        One can act on the environment and obtain its reaction:\n",
    "        - the new state\n",
    "        - the reward of the new state\n",
    "        - should we continue the game?\n",
    "\n",
    "        :return: state, reward, game_over\n",
    "        \"\"\"\n",
    "        pass\n",
    "\n",
    "\n",
    "    def reset(self):\n",
    "        \"\"\"\n",
    "        Reinitialize the environment to a random state and returns\n",
    "        the original state\n",
    "\n",
    "        :return: state\n",
    "        \"\"\"\n",
    "        pass\n",
    "    \n",
    "    def draw(self):\n",
    "        \"\"\"\n",
    "        Visualize in the console or graphically the current state\n",
    "        \"\"\"\n",
    "        pass"
   ]
  },
  {
   "cell_type": "markdown",
   "metadata": {
    "colab_type": "text",
    "id": "er__ROykWHAY"
   },
   "source": [
    "The method ```act``` allows to act on the environment at a given state $s_t$ (stored internally), via action $a_t$. The method will return the new state $s_{t+1}$, the reward $r(s_{t},a_{t})$ and determines if $t\\leq T$ (*game_over*).\n",
    "\n",
    "The method ```reset``` simply reinitializes the environment to a random state $s_0$.\n",
    "\n",
    "The method ```draw``` displays the current state $s_t$ (this is useful to check the behavior of the Agent).\n",
    "\n",
    "We modelize $s_t$ as a tensor, while $a_t$ is an integer."
   ]
  },
  {
   "cell_type": "markdown",
   "metadata": {
    "colab_type": "text",
    "id": "INn7eb2qWKNT"
   },
   "source": [
    "### The Agent"
   ]
  },
  {
   "cell_type": "markdown",
   "metadata": {
    "colab_type": "text",
    "id": "4pu8t6m3WMxT"
   },
   "source": [
    "The goal of the ```Agent``` is to interact with the ```Environment``` by proposing actions $a_t$ obtained from a given state $s_t$ to attempt to maximize its __reward__ $r(s_t,a_t)$. We propose the following abstract class:"
   ]
  },
  {
   "cell_type": "code",
   "execution_count": 0,
   "metadata": {
    "colab": {},
    "colab_type": "code",
    "id": "7buxg3COKdW6"
   },
   "outputs": [],
   "source": [
    "class Agent(object):\n",
    "    def __init__(self, epsilon=0.1, n_action=4):\n",
    "        self.epsilon = epsilon\n",
    "        self.n_action = n_action\n",
    "    \n",
    "    def set_epsilon(self,e):\n",
    "        self.epsilon = e\n",
    "\n",
    "    def act(self,s,train=True):\n",
    "        \"\"\" This function should return the next action to do:\n",
    "        an integer between 0 and 4 (not included) with a random exploration of epsilon\"\"\"\n",
    "        if train:\n",
    "            if np.random.rand() <= self.epsilon:\n",
    "                a = np.random.randint(0, self.n_action, size=1)[0]\n",
    "            else:\n",
    "                a = self.learned_act(s)\n",
    "        else: # in some cases, this can improve the performance.. remove it if poor performances\n",
    "            a = self.learned_act(s)\n",
    "\n",
    "        return a\n",
    "\n",
    "    def learned_act(self,s):\n",
    "        \"\"\" Act via the policy of the agent, from a given state s\n",
    "        it proposes an action a\"\"\"\n",
    "        pass\n",
    "\n",
    "    def reinforce(self, s, n_s, a, r, game_over_):\n",
    "        \"\"\" This function is the core of the learning algorithm. \n",
    "        It takes as an input the current state s_, the next state n_s_\n",
    "        the action a_ used to move from s_ to n_s_ and the reward r_.\n",
    "        \n",
    "        Its goal is to learn a policy.\n",
    "        \"\"\"\n",
    "        pass\n",
    "\n",
    "    def save(self):\n",
    "        \"\"\" This function returns basic stats if applicable: the\n",
    "        loss and/or the model\"\"\"\n",
    "        pass\n",
    "\n",
    "    def load(self):\n",
    "        \"\"\" This function allows to restore a model\"\"\"\n",
    "        pass"
   ]
  },
  {
   "cell_type": "markdown",
   "metadata": {
    "colab_type": "text",
    "id": "rWYAKsREWteA"
   },
   "source": [
    "***\n",
    "__Question 1__:\n",
    "Explain the function act. Why is ```epsilon``` essential?"
   ]
  },
  {
   "cell_type": "markdown",
   "metadata": {
    "colab_type": "text",
    "id": "zBHvDAoWWwtI"
   },
   "source": [
    "The returns of the function **act** is an action that the agent needs to do based on probability $\\epsilon$ and act according to  its policy with a probability $1-\\epsilon$.\n",
    "\n",
    "**epsilon** is essential for setting a proportion(the proportion of action that will be taken randomly) and epsilon stimulates the agent to explore. The algorithm would just return the policy learned by the agent with no  probability of this random action. By exploring other states through random actions, the agent can optimize the policy. In other words, to improve policies, we have to make sure the exploration to find state-action pairs is not under a deterministic policy. \n",
    "\n",
    "***"
   ]
  },
  {
   "cell_type": "markdown",
   "metadata": {
    "colab_type": "text",
    "id": "CkdidnWuW8ET"
   },
   "source": [
    "***\n",
    "### The Game"
   ]
  },
  {
   "cell_type": "markdown",
   "metadata": {
    "colab_type": "text",
    "id": "NP6M2WubW_Gm"
   },
   "source": [
    "The ```Agent``` and the ```Environment``` work in an interlaced way as in the following (take some time to understand this code as it is the core of the project)\n",
    "\n",
    "```python\n",
    "\n",
    "epoch = 300\n",
    "env = Environment()\n",
    "agent = Agent()\n",
    "\n",
    "\n",
    "# Number of won games\n",
    "score = 0\n",
    "loss = 0\n",
    "\n",
    "\n",
    "for e in range(epoch):\n",
    "    # At each epoch, we restart to a fresh game and get the initial state\n",
    "    state = env.reset()\n",
    "    # This assumes that the games will end\n",
    "    game_over = False\n",
    "\n",
    "    win = 0\n",
    "    lose = 0\n",
    "    \n",
    "    while not game_over:\n",
    "        # The agent performs an action\n",
    "        action = agent.act(state)\n",
    "\n",
    "        # Apply an action to the environment, get the next state, the reward\n",
    "        # and if the games end\n",
    "        prev_state = state\n",
    "        state, reward, game_over = env.act(action)\n",
    "\n",
    "        # Update the counters\n",
    "        if reward > 0:\n",
    "            win = win + reward\n",
    "        if reward < 0:\n",
    "            lose = lose -reward\n",
    "\n",
    "        # Apply the reinforcement strategy\n",
    "        loss = agent.reinforce(prev_state, state,  action, reward, game_over)\n",
    "\n",
    "    # Save as a mp4\n",
    "    if e % 10 == 0:\n",
    "        env.draw(e)\n",
    "\n",
    "    # Update stats\n",
    "    score += win-lose\n",
    "\n",
    "    print(\"Epoch {:03d}/{:03d} | Loss {:.4f} | Win/lose count {}/{} ({})\"\n",
    "          .format(e, epoch, loss, win, lose, win-lose))\n",
    "    agent.save()\n",
    "```"
   ]
  },
  {
   "cell_type": "markdown",
   "metadata": {
    "colab_type": "text",
    "id": "LEWf9KTOXI96"
   },
   "source": [
    "# The game, *eat cheese*"
   ]
  },
  {
   "cell_type": "markdown",
   "metadata": {
    "colab_type": "text",
    "id": "4-EKEboIXLoi"
   },
   "source": [
    "A rat runs on an island and tries to eat as much as possible. The island is subdivided into $N\\times N$ cells, in which there are cheese (+0.5) and poisonous cells (-1). The rat has a visibility of 2 cells (thus it can see $5^2$ cells). The rat is given a time $T$ to accumulate as much food as possible. It can perform 4 actions: going up, down, left, right. \n",
    "\n",
    "The goal is to code an agent to solve this task that will learn by trial and error. We propose the following environment:"
   ]
  },
  {
   "cell_type": "code",
   "execution_count": 0,
   "metadata": {
    "colab": {},
    "colab_type": "code",
    "id": "kzftb_t9KgIY"
   },
   "outputs": [],
   "source": [
    "class Environment(object):\n",
    "    def __init__(self, grid_size=10, max_time=500, temperature=0.1):\n",
    "        grid_size = grid_size+4\n",
    "        self.grid_size = grid_size\n",
    "        self.max_time = max_time\n",
    "        self.temperature = temperature\n",
    "\n",
    "        #board on which one plays\n",
    "        self.board = np.zeros((grid_size,grid_size))\n",
    "        self.position = np.zeros((grid_size,grid_size))\n",
    "\n",
    "        # coordinate of the rat\n",
    "        self.x = 0\n",
    "        self.y = 1\n",
    "\n",
    "        # self time\n",
    "        self.t = 0\n",
    "\n",
    "        self.scale=16\n",
    "\n",
    "        self.to_draw = np.zeros((max_time+2, grid_size*self.scale, grid_size*self.scale, 3))\n",
    "\n",
    "\n",
    "    def draw(self,e):\n",
    "        skvideo.io.vwrite(str(e) + '.mp4', self.to_draw)\n",
    "\n",
    "    def get_frame(self,t):\n",
    "        b = np.zeros((self.grid_size,self.grid_size,3))+128\n",
    "        b[self.board>0,0] = 256\n",
    "        b[self.board < 0, 2] = 256\n",
    "        b[self.x,self.y,:]=256\n",
    "        b[-2:,:,:]=0\n",
    "        b[:,-2:,:]=0\n",
    "        b[:2,:,:]=0\n",
    "        b[:,:2,:]=0\n",
    "        \n",
    "        b =  cv2.resize(b, None, fx=self.scale, fy=self.scale, interpolation=cv2.INTER_NEAREST)\n",
    "\n",
    "        self.to_draw[t,:,:,:]=b\n",
    "\n",
    "\n",
    "    def act(self, action):\n",
    "        \"\"\"This function returns the new state, reward and decides if the\n",
    "        game ends.\"\"\"\n",
    "\n",
    "        self.get_frame(int(self.t))\n",
    "\n",
    "        self.position = np.zeros((self.grid_size, self.grid_size))\n",
    "\n",
    "        self.position[0:2,:]= -1\n",
    "        self.position[:,0:2] = -1\n",
    "        self.position[-2:, :] = -1\n",
    "        self.position[:,-2:] = -1\n",
    "\n",
    "        self.position[self.x, self.y] = 1\n",
    "        if action == 0:\n",
    "            if self.x == self.grid_size-3:\n",
    "                self.x = self.x-1\n",
    "            else:\n",
    "                self.x = self.x + 1\n",
    "        elif action == 1:\n",
    "            if self.x == 2:\n",
    "                self.x = self.x+1\n",
    "            else:\n",
    "                self.x = self.x-1\n",
    "        elif action == 2:\n",
    "            if self.y == self.grid_size - 3:\n",
    "                self.y = self.y - 1\n",
    "            else:\n",
    "                self.y = self.y + 1\n",
    "        elif action == 3:\n",
    "            if self.y == 2:\n",
    "                self.y = self.y + 1\n",
    "            else:\n",
    "                self.y = self.y - 1\n",
    "        else:\n",
    "            RuntimeError('Error: action not recognized')\n",
    "\n",
    "        self.t = self.t + 1\n",
    "        reward = self.board[self.x, self.y]\n",
    "        self.board[self.x, self.y] = 0\n",
    "        game_over = self.t > self.max_time\n",
    "        state = np.concatenate((self.board.reshape(self.grid_size, self.grid_size,1),\n",
    "                        self.position.reshape(self.grid_size, self.grid_size,1)),axis=2)\n",
    "        state = state[self.x-2:self.x+3,self.y-2:self.y+3,:]\n",
    "\n",
    "        return state, reward, game_over\n",
    "\n",
    "    def reset(self):\n",
    "        \"\"\"This function resets the game and returns the initial state\"\"\"\n",
    "\n",
    "        self.x = np.random.randint(3, self.grid_size-3, size=1)[0]\n",
    "        self.y = np.random.randint(3, self.grid_size-3, size=1)[0]\n",
    "\n",
    "\n",
    "        bonus = 0.5*np.random.binomial(1,self.temperature,size=self.grid_size**2)\n",
    "        bonus = bonus.reshape(self.grid_size,self.grid_size)\n",
    "\n",
    "        malus = -1.0*np.random.binomial(1,self.temperature,size=self.grid_size**2)\n",
    "        malus = malus.reshape(self.grid_size, self.grid_size)\n",
    "\n",
    "        self.to_draw = np.zeros((self.max_time+2, self.grid_size*self.scale, self.grid_size*self.scale, 3))\n",
    "\n",
    "\n",
    "        malus[bonus>0]=0\n",
    "\n",
    "        self.board = bonus + malus\n",
    "\n",
    "        self.position = np.zeros((self.grid_size, self.grid_size))\n",
    "        self.position[0:2,:]= -1\n",
    "        self.position[:,0:2] = -1\n",
    "        self.position[-2:, :] = -1\n",
    "        self.position[:,-2:] = -1\n",
    "        self.board[self.x,self.y] = 0\n",
    "        self.t = 0\n",
    "\n",
    "        state = np.concatenate((\n",
    "                               self.board.reshape(self.grid_size, self.grid_size,1),\n",
    "                        self.position.reshape(self.grid_size, self.grid_size,1)),axis=2)\n",
    "\n",
    "        state = state[self.x - 2:self.x + 3, self.y - 2:self.y + 3, :]\n",
    "        \n",
    "        return state\n",
    "#Dimension: 5 x 5 x 10"
   ]
  },
  {
   "cell_type": "markdown",
   "metadata": {
    "colab_type": "text",
    "id": "oWt3hxkzXSU1"
   },
   "source": [
    "The following elements are important because they correspond to the hyper parameters for this project:"
   ]
  },
  {
   "cell_type": "code",
   "execution_count": 0,
   "metadata": {
    "colab": {},
    "colab_type": "code",
    "id": "Lz765pznKhyP"
   },
   "outputs": [],
   "source": [
    "# parameters\n",
    "size = 13\n",
    "T=200\n",
    "temperature=0.3\n",
    "epochs_train=15 # set small when debugging\n",
    "epochs_test=15 # set small when debugging\n",
    "\n",
    "# display videos\n",
    "def display_videos(name):\n",
    "    video = io.open(name, 'r+b').read()\n",
    "    encoded = base64.b64encode(video)\n",
    "    return '''<video alt=\"test\" controls>\n",
    "                <source src=\"data:video/mp4;base64,{0}\" type=\"video/mp4\" />\n",
    "             </video>'''.format(encoded.decode('ascii'))"
   ]
  },
  {
   "cell_type": "markdown",
   "metadata": {
    "colab_type": "text",
    "id": "cY7FOKFVXWRr"
   },
   "source": [
    "__Question 2__ Explain the use of the arrays ```position``` and ```board```."
   ]
  },
  {
   "cell_type": "markdown",
   "metadata": {
    "colab_type": "text",
    "id": "8QJVH2UAXYYi"
   },
   "source": [
    "The array **position** shows the exact position of the rat(the agent) on the island(the board). Its position will be denoted by 1. The number -1 represent the boundaries of the board. The number 0 shows all other places that can be visited.\n",
    "\n",
    "\n",
    "The array **board** shows the position of where the rewards are located. If one reward is eatten by the agent during an around, this reward is reset to 0. \n",
    "We will get differnet scores, according to the state(eatting a poison, nothing, eatting a cheese). "
   ]
  },
  {
   "cell_type": "markdown",
   "metadata": {
    "colab_type": "text",
    "id": "5fkMRtwFXbQn"
   },
   "source": [
    "## Random Agent"
   ]
  },
  {
   "cell_type": "markdown",
   "metadata": {
    "colab_type": "text",
    "id": "Ued4In8yXgAm"
   },
   "source": [
    "***"
   ]
  },
  {
   "cell_type": "markdown",
   "metadata": {
    "colab_type": "text",
    "id": "T-YNPHpwXkjc"
   },
   "source": [
    "__Question 3__ Implement a random Agent (only ```learned_act``` needs to be implemented):"
   ]
  },
  {
   "cell_type": "code",
   "execution_count": 0,
   "metadata": {
    "colab": {},
    "colab_type": "code",
    "id": "XCFFq24pKm_e"
   },
   "outputs": [],
   "source": [
    "class RandomAgent(Agent):\n",
    "    def __init__(self,n_action=4):\n",
    "        super(RandomAgent, self).__init__()\n",
    "        \n",
    "        pass\n",
    "\n",
    "    def learned_act(self, s):\n",
    "        return np.random.randint(self.n_action)\n",
    "        "
   ]
  },
  {
   "cell_type": "markdown",
   "metadata": {
    "colab_type": "text",
    "id": "LD2Gg-z0XsJL"
   },
   "source": [
    "***\n",
    "***\n",
    "__Question 4__ Visualize the game moves. You need to fill in the following function for the evaluation:"
   ]
  },
  {
   "cell_type": "code",
   "execution_count": 0,
   "metadata": {
    "colab": {},
    "colab_type": "code",
    "id": "ms2k9MumJEor"
   },
   "outputs": [],
   "source": [
    "def test(agent,env,epochs,prefix=''):\n",
    "    # Number of won games\n",
    "    score = 0\n",
    "    # Win - Lose    \n",
    "    for e in range(1,epochs+1):\n",
    "        \n",
    "        ##### FILL IN HERE\n",
    "        #At each epoch, a new game is started, and the state is started over.\n",
    "        state = env.reset()\n",
    "        game_over = False\n",
    "        win, lose = 0, 0\n",
    "        \n",
    "        # when the time of ending(maximum game time) is coming, game over\n",
    "        while not game_over:\n",
    "            # The agent performs an action\n",
    "            action = agent.act(state)\n",
    "            \n",
    "            # an action, get to the next state, the reward\n",
    "            prev_state = state\n",
    "            state, reward, game_over = env.act(action)\n",
    "            \n",
    "            # Update the counters\n",
    "            if reward > 0:\n",
    "                win = win + reward\n",
    "            if reward < 0:\n",
    "                lose = lose - reward\n",
    "            \n",
    "            # Apply the reinforcement strategy\n",
    "            \n",
    "        # Save as a mp4\n",
    "        env.draw(prefix+str(e+1))\n",
    "        # Update stats\n",
    "        score = score + win-lose\n",
    "\n",
    "        print(\"Win/lose count {}/{}. Average score ({})\"\n",
    "              .format(win, lose, score/(1+e)))\n",
    "    print('Final score: '+str(score/epochs))"
   ]
  },
  {
   "cell_type": "code",
   "execution_count": 148,
   "metadata": {
    "colab": {
     "base_uri": "https://localhost:8080/",
     "height": 562
    },
    "colab_type": "code",
    "id": "POobRHZRJEyW",
    "outputId": "de9edf0a-ca5a-41a8-9f2d-ce56fde1fe28"
   },
   "outputs": [
    {
     "name": "stdout",
     "output_type": "stream",
     "text": [
      "Win/lose count 11.0/7.0. Average score (2.0)\n",
      "Win/lose count 5.5/6.0. Average score (1.1666666666666667)\n",
      "Win/lose count 9.0/17.0. Average score (-1.125)\n",
      "Win/lose count 10.0/10.0. Average score (-0.9)\n",
      "Win/lose count 12.0/10.0. Average score (-0.4166666666666667)\n",
      "Win/lose count 10.0/7.0. Average score (0.07142857142857142)\n",
      "Win/lose count 7.0/16.0. Average score (-1.0625)\n",
      "Win/lose count 10.5/21.0. Average score (-2.111111111111111)\n",
      "Win/lose count 12.0/13.0. Average score (-2.0)\n",
      "Win/lose count 13.5/12.0. Average score (-1.6818181818181819)\n",
      "Win/lose count 10.5/17.0. Average score (-2.0833333333333335)\n",
      "Win/lose count 11.0/19.0. Average score (-2.5384615384615383)\n",
      "Win/lose count 10.0/14.0. Average score (-2.642857142857143)\n",
      "Win/lose count 11.5/17.0. Average score (-2.8333333333333335)\n",
      "Win/lose count 8.0/8.0. Average score (-2.65625)\n",
      "Final score: -2.8333333333333335\n"
     ]
    },
    {
     "data": {
      "text/html": [
       "<video alt=\"test\" controls>\n",
       "                <source src=\"data:video/mp4;base64,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\" type=\"video/mp4\" />\n",
       "             </video>"
      ],
      "text/plain": [
       "<IPython.core.display.HTML object>"
      ]
     },
     "execution_count": 148,
     "metadata": {
      "tags": []
     },
     "output_type": "execute_result"
    }
   ],
   "source": [
    "# Initialize the game\n",
    "env = Environment(grid_size=size, max_time=T,temperature=temperature)\n",
    "\n",
    "# Initialize the agent!\n",
    "agent = RandomAgent()\n",
    "\n",
    "test(agent,env,epochs_test,prefix='random')\n",
    "HTML(display_videos('random1.mp4'))"
   ]
  },
  {
   "cell_type": "markdown",
   "metadata": {
    "colab_type": "text",
    "id": "RWhXa6z1Xy5R"
   },
   "source": [
    "***\n",
    "## DQN"
   ]
  },
  {
   "cell_type": "markdown",
   "metadata": {
    "colab_type": "text",
    "id": "gYS6KvgzXzCe"
   },
   "source": [
    "Let us assume here that $T=\\infty$.\n",
    "\n",
    "***\n",
    "__Question 5__ Let $\\pi$ be a policy, show that:\n",
    "\n",
    "\\begin{equation*}\n",
    "Q^{\\pi}(s,a)=E_{(s',a')\\sim p(.|s,a)}[r(s,a)+\\gamma Q^{\\pi}(s',a')]\n",
    "\\end{equation*}\n",
    "\n",
    "Then, show that for the optimal policy $\\pi^*$ (we assume its existence), the following holds: \n",
    "\n",
    "\\begin{equation*}\n",
    "Q^{*}(s,a)=E_{s'\\sim \\pi^*(.|s,a)}[r(s,a)+\\gamma\\max_{a'}Q^{*}(s',a')].\n",
    "\\end{equation*}\n",
    "Finally, deduce that a plausible objective is:\n",
    "\n",
    "\\begin{equation*}\n",
    "\\mathcal{L}(\\theta)=E_{s' \\sim \\pi^*(.|s,a)}\\Vert r+\\gamma\\max\\max_{a'}Q(s',a',\\theta)-Q(s,a,\\theta)\\Vert^{2}.\n",
    "\\end{equation*}\n"
   ]
  },
  {
   "cell_type": "markdown",
   "metadata": {
    "colab_type": "text",
    "id": "-3b0ZCFq8hAP"
   },
   "source": [
    "**(1)**\n",
    "\n",
    "\n",
    "\n",
    "$$Q^{\\pi}(s, a) = E_{\\pi} [\\sum_{i=0}^{\\infty}{\\gamma^tr_t(s_t,\\pi(s_t), s_{t+1})|s_t = s, a_t = a]}$$\n",
    "\n",
    "According to the markovian property of each $(a_t, s_t)$ couple, we can also consider it as:\n",
    "\n",
    "\n",
    "$$Q^\\pi(s,a)=\\gamma^{0}E_{p^{\\pi}}[r(s, a|s_0=s, a_0=a)] + \\gamma E_{p^{\\pi}}[r(s_1, a_1)|a, s] + ... + \\gamma^{T}E_{p^{\\pi}}[r(s_T, a_T)|a_{T-1}, s_{T-1}]$$\n",
    "where we have:\n",
    "\n",
    "$$\\gamma^{0}E_{p^{\\pi}}[r(s, a|s_0=s, a_0=a)]=E_{p^{\\pi}}[r(s, a|s, a)]=E_{p^{\\pi}(.|s,a)}[r(s, a)]$$\n",
    "also, by setting $s_1=s{'}$ and $a_1=a{'}$, we get by the definition of the $Q$ function:\n",
    "\n",
    "$$\\gamma E_{p^{\\pi}}[r(s_1, a_1)|a, s] + ... + \\gamma^{T}E_{p^{\\pi}}[r(s_T, a_T)|a_{T-1}, s_{T-1}] = \\gamma Q^{\\pi}(s^{\\prime}, a^{\\prime})$$\n",
    "Thus, as $\\gamma Q^{\\pi}(s^{\\prime}, a^{\\prime})$, is a sum of expectations:\n",
    "\n",
    "$$E_{p(.|s,a)}[r(s, a)] + \\gamma Q^{\\pi}(s^{\\prime}, a^{\\prime}) = E_{(s',a')\\sim p(.|s,a)}[r(s, a) + \\gamma Q^{\\pi}(s^{\\prime}, a^{\\prime})]$$\n",
    "\n",
    "\n",
    "\n",
    "\n",
    "\n",
    "\n",
    "\n",
    "**(2)**\n",
    "\n",
    "Under the optimal policy, let's see $S$ as the set of all possible states, we have :\n",
    "\n",
    "$$\\underset{s' \\epsilon S}{max} ({p^{\\pi^*}(.|s, a)) = s'}$$ \n",
    "\n",
    "thus:\n",
    "\n",
    "$$s'\\sim \\pi^*(.|s, a)$$\n",
    "\n",
    "Also, for denoting the Q function under the optimal policy, we rewrite simply:\n",
    "$$Q^\\pi(s', a')=Q^*(s', a')$$\n",
    "\n",
    "Considering now s' as given with $(s_0 = s, a_0 = a)$ for $\\pi^*$, along with $r(s, a)$, we need to maximize  $Q^*$ $w.r.t.$ $a'$.\n",
    "\n",
    "That is $$max(E_{(s', a') \\sim p^{\\pi^*}(.|s, a)}[r(s, a)+\\gamma Q^*(s', a')]) \\Leftrightarrow E_{s' \\sim \\pi^*(s, a)}[r(s, a)+\\gamma  \\underset{a'}{max}(Q^*(s', a'))]$$\n",
    "\n",
    "\n",
    "**(3)**\n",
    "\n",
    "Given the loss function $\\mathcal{L}(\\theta) = [Q^*(s, a, \\theta) - Q(s, a, \\theta)]^2$\n",
    "\n",
    "By substituting $Q^*(s, a, \\theta)$, we got:\n",
    "\n",
    "$$\\Rightarrow \\mathcal{L}(\\theta) = E_{s'\\sim {\\pi^*}(.|s, a)|}|| r + \\gamma \\underset{a'}{max maxQ}(s', a', \\theta)-Q(s, a, \\theta)||^2 $$"
   ]
  },
  {
   "cell_type": "markdown",
   "metadata": {
    "colab_type": "text",
    "id": "0m5Dkn0iXzIX"
   },
   "source": [
    "***\n",
    "The DQN-learning algorithm relies on these derivations to train the parameters $\\theta$ of a Deep Neural Network:\n",
    "\n",
    "1. At the state $s_t$, select the action $a_t$ with best reward using $Q_t$ and store the results;\n",
    "\n",
    "2. Obtain the new state $s_{t+1}$ from the environment $p$;\n",
    "\n",
    "3. Store $(s_t,a_t,s_{t+1})$;\n",
    "\n",
    "4. Obtain $Q_{t+1}$ by minimizing  $\\mathcal{L}$ from a recovered batch from the previously stored results.\n",
    "\n",
    "***\n",
    "__Question 6__ Implement the class ```Memory``` that stores moves (in a replay buffer) via ```remember``` and provides a ```random_access``` to these. Specify a maximum memory size to avoid side effects. You can for example use a ```list()``` and set by default ```max_memory=100```."
   ]
  },
  {
   "cell_type": "code",
   "execution_count": 0,
   "metadata": {
    "colab": {},
    "colab_type": "code",
    "id": "C10vyLxbJE12"
   },
   "outputs": [],
   "source": [
    "class Memory(object):\n",
    "    def __init__(self, max_memory=100):\n",
    "        self.max_memory = max_memory\n",
    "        self.memory = list()\n",
    "\n",
    "    def remember(self, m):\n",
    "        self.memory.append(m)\n",
    "        pass\n",
    "\n",
    "    def random_access(self):\n",
    "        r= np.random.randint(0, len(self.memory))\n",
    "        return self.memory[r]\n"
   ]
  },
  {
   "cell_type": "markdown",
   "metadata": {
    "colab_type": "text",
    "id": "8gWMP-N8YJOr"
   },
   "source": [
    "***\n",
    "The pipeline we will use for training is given below:"
   ]
  },
  {
   "cell_type": "code",
   "execution_count": 0,
   "metadata": {
    "colab": {},
    "colab_type": "code",
    "id": "uxM2yVw3JE43"
   },
   "outputs": [],
   "source": [
    "\n",
    "def train(agent,env,epoch,prefix=''):\n",
    "    # Number of won games\n",
    "    score = 0\n",
    "    loss = 0\n",
    "\n",
    "    for e in range(epoch):\n",
    "        # At each epoch, we restart to a fresh game and get the initial state\n",
    "        state = env.reset()\n",
    "        # This assumes that the games will terminate\n",
    "        game_over = False\n",
    "\n",
    "        win = 0\n",
    "        lose = 0\n",
    "\n",
    "        while not game_over:\n",
    "            # The agent performs an action\n",
    "            action = agent.act(state)\n",
    "\n",
    "            # Apply an action to the environment, get the next state, the reward\n",
    "            # and if the games end\n",
    "            prev_state = state\n",
    "            state, reward, game_over = env.act(action)\n",
    "\n",
    "            # Update the counters\n",
    "            if reward > 0:\n",
    "                win = win + reward\n",
    "            if reward < 0:\n",
    "                lose = lose -reward\n",
    "\n",
    "            # Apply the reinforcement strategy\n",
    "            loss = agent.reinforce(prev_state, state,  action, reward, game_over)\n",
    "\n",
    "        # Save as a mp4\n",
    "        if e % 10 == 0:\n",
    "            env.draw(prefix+str(e))\n",
    "\n",
    "        # Update stats\n",
    "        score += win-lose\n",
    "\n",
    "        print(\"Epoch {:03d}/{:03d} | Loss {:.4f} | Win/lose count {}/{} ({})\"\n",
    "              .format(e, epoch, loss, win, lose, win-lose))\n",
    "        agent.save(name_weights=prefix+'model.h5',name_model=prefix+'model.json')"
   ]
  },
  {
   "cell_type": "markdown",
   "metadata": {
    "colab_type": "text",
    "id": "PHzu7hUCYP_z"
   },
   "source": [
    "***\n",
    "__Question 7__ Implement the DQN training algorithm using a cascade of fully connected layers. You can use different learning rate, batch size or memory size parameters. In particular, the loss might oscillate while the player will start to win the games. You have to find a good criterium."
   ]
  },
  {
   "cell_type": "code",
   "execution_count": 0,
   "metadata": {
    "colab": {},
    "colab_type": "code",
    "id": "-yIZISr1JE7x"
   },
   "outputs": [],
   "source": [
    "class DQN(Agent):\n",
    "    def __init__(self, grid_size,  epsilon = 0.1, memory_size=100, batch_size = 16,n_state=2):\n",
    "        super(DQN, self).__init__(epsilon = epsilon)\n",
    "\n",
    "        # Discount for Q learning\n",
    "        self.discount = 0.99\n",
    "        \n",
    "        self.grid_size = grid_size\n",
    "        \n",
    "        # number of state\n",
    "        self.n_state = n_state\n",
    "\n",
    "        # Memory\n",
    "        self.memory = Memory(memory_size)\n",
    "        \n",
    "        # Batch size when learning\n",
    "        self.batch_size = batch_size\n",
    "\n",
    "    def learned_act(self, s):\n",
    "        acts_ = self.model.predict(np.reshape(s,(1,5,5,self.n_state)))\n",
    "        return np.argmax(acts_[0])\n",
    "        ######\n",
    "        #return np.argmax(self.model.predict(s.reshape(1, 5, 5, 2)))\n",
    "        \n",
    "\n",
    "    def reinforce(self, s_, n_s_, a_, r_, game_over_):\n",
    "        # Two steps: first memorize the states, second learn from the pool\n",
    "\n",
    "        self.memory.remember([s_, n_s_, a_, r_, game_over_])\n",
    "        \n",
    "        input_states = np.zeros((self.batch_size, 5,5,self.n_state))\n",
    "        target_q = np.zeros((self.batch_size, 4))\n",
    "        \n",
    "        for i in range(self.batch_size):\n",
    "            current_state, next_state, action, reward, game_over_ = self.memory.random_access() #sample some moves\n",
    "            input_states[i] = current_state\n",
    "            \n",
    "            s_reshape=np.reshape(current_state,(1,5,5,self.n_state))\n",
    "            next_state=np.reshape(next_state,(1,5,5,self.n_state))\n",
    "            target_q[i] = self.model.predict(s_reshape)\n",
    "            \n",
    "           \n",
    "            if game_over_:\n",
    "\n",
    "                target_q[i,a_]= reward\n",
    "            else:\n",
    "                q = self.model.predict(next_state)\n",
    "                target_q[i,a_] = reward + self.discount * np.max(q)\n",
    "        \n",
    "                \n",
    "        ######## FILL IN\n",
    "        # HINT: Clip the target to avoid exploiding gradients.. -- clipping is a bit tighter\n",
    "        \n",
    "        \n",
    "        target_q = np.clip(target_q, -3, 3)\n",
    "\n",
    "        l = self.model.train_on_batch(input_states, target_q)\n",
    "\n",
    "\n",
    "        return l\n",
    "\n",
    "    def save(self,name_weights='model.h5',name_model='model.json'):\n",
    "        self.model.save_weights(name_weights, overwrite=True)\n",
    "        with open(name_model, \"w\") as outfile:\n",
    "            json.dump(self.model.to_json(), outfile)\n",
    "            \n",
    "    def load(self,name_weights='model.h5',name_model='model.json'):\n",
    "        with open(name_model, \"r\") as jfile:\n",
    "            model = model_from_json(json.load(jfile))\n",
    "        model.load_weights(name_weights)\n",
    "        model.compile(\"sgd\", \"mse\")\n",
    "        self.model = model\n",
    "\n",
    "            \n",
    "class DQN_FC(DQN):\n",
    "    def __init__(self, *args, lr=0.1,**kwargs):\n",
    "        super(DQN_FC, self).__init__( *args,**kwargs)\n",
    "        \n",
    "        \n",
    "        # NN Model\n",
    "        model = Sequential()\n",
    "        # Flattening the input frame\n",
    "        model.add(Flatten(input_shape=(5,5,self.n_state)))\n",
    "        model.add(Dense(24,init='uniform', activation='relu'))\n",
    "        model.add(Dense(4,init='uniform', activation='relu'))\n",
    "        \n",
    "\n",
    "        model.compile(sgd(lr=lr, decay=1e-4, momentum=0.0), \"mse\")\n",
    "        self.model = model\n",
    "        \n",
    "        \n",
    "        \n",
    "        \n",
    "      "
   ]
  },
  {
   "cell_type": "code",
   "execution_count": 0,
   "metadata": {
    "colab": {},
    "colab_type": "code",
    "id": "GJafCpIYJIVH"
   },
   "outputs": [],
   "source": [
    "size = 13\n",
    "T=200\n",
    "temperature=0.3\n",
    "epochs_train=30\n",
    "epochs_test=15"
   ]
  },
  {
   "cell_type": "code",
   "execution_count": 153,
   "metadata": {
    "colab": {
     "base_uri": "https://localhost:8080/",
     "height": 574
    },
    "colab_type": "code",
    "id": "Bx9SroIFJE-Z",
    "outputId": "2a287898-83c9-4af4-ebab-e8e5fa3e1ceb"
   },
   "outputs": [
    {
     "name": "stderr",
     "output_type": "stream",
     "text": [
      "/usr/local/lib/python3.6/dist-packages/ipykernel_launcher.py:84: UserWarning: Update your `Dense` call to the Keras 2 API: `Dense(24, activation=\"relu\", kernel_initializer=\"uniform\")`\n",
      "/usr/local/lib/python3.6/dist-packages/ipykernel_launcher.py:85: UserWarning: Update your `Dense` call to the Keras 2 API: `Dense(4, activation=\"relu\", kernel_initializer=\"uniform\")`\n"
     ]
    },
    {
     "name": "stdout",
     "output_type": "stream",
     "text": [
      "Epoch 000/030 | Loss 0.0226 | Win/lose count 3.5/6.0 (-2.5)\n",
      "Epoch 001/030 | Loss 0.0263 | Win/lose count 4.0/8.0 (-4.0)\n",
      "Epoch 002/030 | Loss 0.0125 | Win/lose count 4.0/4.0 (0.0)\n",
      "Epoch 003/030 | Loss 0.0100 | Win/lose count 4.0/4.0 (0.0)\n",
      "Epoch 004/030 | Loss 0.0020 | Win/lose count 2.0/4.0 (-2.0)\n",
      "Epoch 005/030 | Loss 0.0171 | Win/lose count 2.0/5.0 (-3.0)\n",
      "Epoch 006/030 | Loss 0.0226 | Win/lose count 6.5/6.0 (0.5)\n",
      "Epoch 007/030 | Loss 0.0098 | Win/lose count 4.0/10.0 (-6.0)\n",
      "Epoch 008/030 | Loss 0.0001 | Win/lose count 5.5/6.0 (-0.5)\n",
      "Epoch 009/030 | Loss 0.0077 | Win/lose count 2.5/10.0 (-7.5)\n",
      "Epoch 010/030 | Loss 0.0001 | Win/lose count 5.0/8.0 (-3.0)\n",
      "Epoch 011/030 | Loss 0.0155 | Win/lose count 3.5/8.0 (-4.5)\n",
      "Epoch 012/030 | Loss 0.0094 | Win/lose count 10.0/7.0 (3.0)\n",
      "Epoch 013/030 | Loss 0.0114 | Win/lose count 3.5/9.0 (-5.5)\n",
      "Epoch 014/030 | Loss 0.0173 | Win/lose count 6.0/12.0 (-6.0)\n",
      "Epoch 015/030 | Loss 0.0310 | Win/lose count 7.0/10.0 (-3.0)\n",
      "Epoch 016/030 | Loss 0.0019 | Win/lose count 2.0/5.0 (-3.0)\n",
      "Epoch 017/030 | Loss 0.0019 | Win/lose count 6.5/7.0 (-0.5)\n",
      "Epoch 018/030 | Loss 0.0037 | Win/lose count 3.5/6.0 (-2.5)\n",
      "Epoch 019/030 | Loss 0.0179 | Win/lose count 11.5/11.0 (0.5)\n",
      "Epoch 020/030 | Loss 0.0185 | Win/lose count 2.5/6.0 (-3.5)\n",
      "Epoch 021/030 | Loss 0.0122 | Win/lose count 3.0/2.0 (1.0)\n",
      "Epoch 022/030 | Loss 0.0105 | Win/lose count 6.5/11.0 (-4.5)\n",
      "Epoch 023/030 | Loss 0.0201 | Win/lose count 8.0/8.0 (0.0)\n",
      "Epoch 024/030 | Loss 0.0002 | Win/lose count 4.0/5.0 (-1.0)\n",
      "Epoch 025/030 | Loss 0.0171 | Win/lose count 5.0/8.0 (-3.0)\n",
      "Epoch 026/030 | Loss 0.0023 | Win/lose count 4.5/8.0 (-3.5)\n",
      "Epoch 027/030 | Loss 0.0085 | Win/lose count 6.5/11.0 (-4.5)\n",
      "Epoch 028/030 | Loss 0.0294 | Win/lose count 5.5/11.0 (-5.5)\n",
      "Epoch 029/030 | Loss 0.0146 | Win/lose count 2.0/2.0 (0.0)\n"
     ]
    }
   ],
   "source": [
    "env = Environment(grid_size=size, max_time=T, temperature=0.3)\n",
    "agent = DQN_FC(size, lr=.1, epsilon = 0.2, memory_size=16000, batch_size = 32)\n",
    "train(agent, env, epochs_train, prefix='fc_train_')"
   ]
  },
  {
   "cell_type": "code",
   "execution_count": 154,
   "metadata": {
    "colab": {
     "base_uri": "https://localhost:8080/",
     "height": 293
    },
    "colab_type": "code",
    "id": "yUF8o_DKsgXG",
    "outputId": "33a1005d-df05-4c63-9a5a-380d56121d53"
   },
   "outputs": [
    {
     "data": {
      "text/html": [
       "<video alt=\"test\" controls>\n",
       "                <source src=\"data:video/mp4;base64,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\" type=\"video/mp4\" />\n",
       "             </video>"
      ],
      "text/plain": [
       "<IPython.core.display.HTML object>"
      ]
     },
     "execution_count": 154,
     "metadata": {
      "tags": []
     },
     "output_type": "execute_result"
    }
   ],
   "source": [
    "HTML(display_videos('fc_train_30.mp4'))"
   ]
  },
  {
   "cell_type": "markdown",
   "metadata": {
    "colab_type": "text",
    "id": "oM4_2a1AYaIU"
   },
   "source": [
    "***\n",
    "***\n",
    "__Question 8__ Implement the DQN training algorithm using a CNN (for example, 2 convolutional layers and one final fully connected layer)."
   ]
  },
  {
   "cell_type": "code",
   "execution_count": 0,
   "metadata": {
    "colab": {},
    "colab_type": "code",
    "id": "xva273JvJFJk"
   },
   "outputs": [],
   "source": [
    "class DQN_CNN(DQN):\n",
    "    def __init__(self, *args,lr=0.1,**kwargs):\n",
    "        super(DQN_CNN, self).__init__(*args,**kwargs)\n",
    "     \n",
    "        model = Sequential()\n",
    "        model.add(Conv2D(32,(2,2),activation='relu',input_shape=(5,5,self.n_state)))\n",
    "        #model.add(Conv2D(16,(1,1),activation='relu',input_shape=(5,5,self.n_state)))\n",
    "        model.add(Conv2D(32,(2,2), activation='relu'))\n",
    "        #model.add(Conv2D(32,(1,1), activation='relu'))\n",
    "        model.add(Flatten())\n",
    "        \n",
    "        model.add(Dense(4))\n",
    "        model.compile(sgd(lr=lr, decay=1e-4, momentum=0.0), \"mse\")\n",
    "        print(model.summary())\n",
    "        self.model = model"
   ]
  },
  {
   "cell_type": "code",
   "execution_count": 156,
   "metadata": {
    "colab": {
     "base_uri": "https://localhost:8080/",
     "height": 790
    },
    "colab_type": "code",
    "id": "fLi6RXozJFMn",
    "outputId": "3dbed6e1-110c-452e-9ff6-44d8851c0b39"
   },
   "outputs": [
    {
     "name": "stdout",
     "output_type": "stream",
     "text": [
      "_________________________________________________________________\n",
      "Layer (type)                 Output Shape              Param #   \n",
      "=================================================================\n",
      "conv2d_59 (Conv2D)           (None, 4, 4, 32)          288       \n",
      "_________________________________________________________________\n",
      "conv2d_60 (Conv2D)           (None, 3, 3, 32)          4128      \n",
      "_________________________________________________________________\n",
      "flatten_45 (Flatten)         (None, 288)               0         \n",
      "_________________________________________________________________\n",
      "dense_81 (Dense)             (None, 4)                 1156      \n",
      "=================================================================\n",
      "Total params: 5,572\n",
      "Trainable params: 5,572\n",
      "Non-trainable params: 0\n",
      "_________________________________________________________________\n",
      "None\n",
      "Epoch 000/030 | Loss 0.0068 | Win/lose count 2.5/7.0 (-4.5)\n",
      "Epoch 001/030 | Loss 0.0043 | Win/lose count 3.0/3.0 (0.0)\n",
      "Epoch 002/030 | Loss 0.0107 | Win/lose count 7.0/8.0 (-1.0)\n",
      "Epoch 003/030 | Loss 0.0080 | Win/lose count 4.5/6.0 (-1.5)\n",
      "Epoch 004/030 | Loss 0.0185 | Win/lose count 3.0/10.0 (-7.0)\n",
      "Epoch 005/030 | Loss 0.0077 | Win/lose count 3.0/12.0 (-9.0)\n",
      "Epoch 006/030 | Loss 0.0158 | Win/lose count 3.5/2.0 (1.5)\n",
      "Epoch 007/030 | Loss 0.0236 | Win/lose count 8.0/11.0 (-3.0)\n",
      "Epoch 008/030 | Loss 0.0350 | Win/lose count 8.0/7.0 (1.0)\n",
      "Epoch 009/030 | Loss 0.0056 | Win/lose count 7.5/9.0 (-1.5)\n",
      "Epoch 010/030 | Loss 0.0214 | Win/lose count 3.5/6.0 (-2.5)\n",
      "Epoch 011/030 | Loss 0.0252 | Win/lose count 12.5/12.0 (0.5)\n",
      "Epoch 012/030 | Loss 0.0059 | Win/lose count 9.5/12.0 (-2.5)\n",
      "Epoch 013/030 | Loss 0.0147 | Win/lose count 9.0/8.0 (1.0)\n",
      "Epoch 014/030 | Loss 0.0063 | Win/lose count 10.5/9.0 (1.5)\n",
      "Epoch 015/030 | Loss 0.0105 | Win/lose count 9.5/20.0 (-10.5)\n",
      "Epoch 016/030 | Loss 0.0126 | Win/lose count 9.5/9.0 (0.5)\n",
      "Epoch 017/030 | Loss 0.0379 | Win/lose count 7.5/17.0 (-9.5)\n",
      "Epoch 018/030 | Loss 0.0215 | Win/lose count 12.0/21.0 (-9.0)\n",
      "Epoch 019/030 | Loss 0.0139 | Win/lose count 10.0/15.0 (-5.0)\n",
      "Epoch 020/030 | Loss 0.0104 | Win/lose count 7.5/7.0 (0.5)\n",
      "Epoch 021/030 | Loss 0.0164 | Win/lose count 0.5/4.0 (-3.5)\n",
      "Epoch 022/030 | Loss 0.0277 | Win/lose count 7.5/10.0 (-2.5)\n",
      "Epoch 023/030 | Loss 0.0047 | Win/lose count 5.0/0 (5.0)\n",
      "Epoch 024/030 | Loss 0.0112 | Win/lose count 6.0/6.0 (0.0)\n",
      "Epoch 025/030 | Loss 0.0207 | Win/lose count 15.5/14.0 (1.5)\n",
      "Epoch 026/030 | Loss 0.0054 | Win/lose count 10.0/13.0 (-3.0)\n",
      "Epoch 027/030 | Loss 0.0336 | Win/lose count 7.5/8.0 (-0.5)\n",
      "Epoch 028/030 | Loss 0.0047 | Win/lose count 11.5/14.0 (-2.5)\n",
      "Epoch 029/030 | Loss 0.0144 | Win/lose count 2.0/5.0 (-3.0)\n"
     ]
    }
   ],
   "source": [
    "env = Environment(grid_size=size, max_time=T, temperature=0.3)\n",
    "agent = DQN_CNN(size, lr=.1, epsilon = 0.1, memory_size=2000, batch_size = 32)\n",
    "train(agent,env,epochs_train,prefix='cnn_train_')"
   ]
  },
  {
   "cell_type": "code",
   "execution_count": 157,
   "metadata": {
    "colab": {
     "base_uri": "https://localhost:8080/",
     "height": 293
    },
    "colab_type": "code",
    "id": "GSoN68YSO2r0",
    "outputId": "b6e3824c-0f78-4b28-83e6-34347d006bf9"
   },
   "outputs": [
    {
     "data": {
      "text/html": [
       "<video alt=\"test\" controls>\n",
       "                <source src=\"data:video/mp4;base64,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\" type=\"video/mp4\" />\n",
       "             </video>"
      ],
      "text/plain": [
       "<IPython.core.display.HTML object>"
      ]
     },
     "execution_count": 157,
     "metadata": {
      "tags": []
     },
     "output_type": "execute_result"
    }
   ],
   "source": [
    "HTML(display_videos('cnn_train_30.mp4'))"
   ]
  },
  {
   "cell_type": "markdown",
   "metadata": {
    "colab_type": "text",
    "id": "p-wjkdqAYgu4"
   },
   "source": [
    "***\n",
    "***\n",
    "__Question 9__ Test both algorithms and compare their performances. Which issue(s) do you observe? Observe also different behaviors by changing the temperature."
   ]
  },
  {
   "cell_type": "markdown",
   "metadata": {
    "colab_type": "text",
    "id": "F_NVYXRe0aBY"
   },
   "source": [
    "**Testing  with temperature set to 0.3**"
   ]
  },
  {
   "cell_type": "code",
   "execution_count": 158,
   "metadata": {
    "colab": {
     "base_uri": "https://localhost:8080/",
     "height": 944
    },
    "colab_type": "code",
    "id": "vlycB-ujO2y3",
    "outputId": "2039553a-3744-456f-e5f6-70c532709326"
   },
   "outputs": [
    {
     "name": "stdout",
     "output_type": "stream",
     "text": [
      "_________________________________________________________________\n",
      "Layer (type)                 Output Shape              Param #   \n",
      "=================================================================\n",
      "conv2d_61 (Conv2D)           (None, 4, 4, 32)          288       \n",
      "_________________________________________________________________\n",
      "conv2d_62 (Conv2D)           (None, 3, 3, 32)          4128      \n",
      "_________________________________________________________________\n",
      "flatten_46 (Flatten)         (None, 288)               0         \n",
      "_________________________________________________________________\n",
      "dense_82 (Dense)             (None, 4)                 1156      \n",
      "=================================================================\n",
      "Total params: 5,572\n",
      "Trainable params: 5,572\n",
      "Non-trainable params: 0\n",
      "_________________________________________________________________\n",
      "None\n"
     ]
    },
    {
     "name": "stderr",
     "output_type": "stream",
     "text": [
      "/usr/local/lib/python3.6/dist-packages/ipykernel_launcher.py:84: UserWarning: Update your `Dense` call to the Keras 2 API: `Dense(24, activation=\"relu\", kernel_initializer=\"uniform\")`\n",
      "/usr/local/lib/python3.6/dist-packages/ipykernel_launcher.py:85: UserWarning: Update your `Dense` call to the Keras 2 API: `Dense(4, activation=\"relu\", kernel_initializer=\"uniform\")`\n"
     ]
    },
    {
     "name": "stdout",
     "output_type": "stream",
     "text": [
      "\n",
      " ___________Test of the CNN_____________\n",
      "Win/lose count 3.0/8.0. Average score (-2.5)\n",
      "Win/lose count 2.5/1.0. Average score (-1.1666666666666667)\n",
      "Win/lose count 2.0/4.0. Average score (-1.375)\n",
      "Win/lose count 2.0/1.0. Average score (-0.9)\n",
      "Win/lose count 3.5/3.0. Average score (-0.6666666666666666)\n",
      "Win/lose count 2.5/7.0. Average score (-1.2142857142857142)\n",
      "Win/lose count 3.0/6.0. Average score (-1.4375)\n",
      "Win/lose count 5.5/2.0. Average score (-0.8888888888888888)\n",
      "Win/lose count 2.0/3.0. Average score (-0.9)\n",
      "Win/lose count 3.0/1.0. Average score (-0.6363636363636364)\n",
      "Win/lose count 4.0/4.0. Average score (-0.5833333333333334)\n",
      "Win/lose count 2.5/1.0. Average score (-0.4230769230769231)\n",
      "Win/lose count 0.5/2.0. Average score (-0.5)\n",
      "Win/lose count 5.0/3.0. Average score (-0.3333333333333333)\n",
      "Win/lose count 5.0/4.0. Average score (-0.25)\n",
      "Final score: -0.26666666666666666\n",
      "\n",
      " _____________Test of the FC___________________\n",
      "Win/lose count 2.0/7.0. Average score (-2.5)\n",
      "Win/lose count 3.0/8.0. Average score (-3.3333333333333335)\n",
      "Win/lose count 5.0/2.0. Average score (-1.75)\n",
      "Win/lose count 3.5/3.0. Average score (-1.3)\n",
      "Win/lose count 2.5/9.0. Average score (-2.1666666666666665)\n",
      "Win/lose count 5.0/5.0. Average score (-1.8571428571428572)\n",
      "Win/lose count 4.0/1.0. Average score (-1.25)\n",
      "Win/lose count 4.5/4.0. Average score (-1.0555555555555556)\n",
      "Win/lose count 1.0/2.0. Average score (-1.05)\n",
      "Win/lose count 3.5/8.0. Average score (-1.3636363636363635)\n",
      "Win/lose count 5.0/5.0. Average score (-1.25)\n",
      "Win/lose count 3.5/1.0. Average score (-0.9615384615384616)\n",
      "Win/lose count 7.0/5.0. Average score (-0.75)\n",
      "Win/lose count 5.0/4.0. Average score (-0.6333333333333333)\n",
      "Win/lose count 5.5/6.0. Average score (-0.625)\n",
      "Final score: -0.6666666666666666\n"
     ]
    }
   ],
   "source": [
    "env = Environment(grid_size=size, max_time=T,temperature=0.3)\n",
    "agent_cnn = DQN_CNN(size, lr=.1, epsilon = 0.1, memory_size=2000, batch_size = 32)\n",
    "agent_cnn.load(name_weights='cnn_train_model.h5',name_model='cnn_train_model.json')\n",
    "\n",
    "agent_fc = DQN_FC(size, lr=.1, epsilon = 0.1, memory_size=2000, batch_size = 32)\n",
    "agent_cnn.load(name_weights='fc_train_model.h5',name_model='fc_train_model.json')\n",
    "print('\\n ___________Test of the CNN_____________')\n",
    "test(agent_cnn,env,epochs_test,prefix='cnn_test')\n",
    "print('\\n _____________Test of the FC___________________')\n",
    "test(agent_fc,env,epochs_test,prefix='fc_test')\n"
   ]
  },
  {
   "cell_type": "markdown",
   "metadata": {
    "colab_type": "text",
    "id": "BlPrRCuY0N1J"
   },
   "source": [
    "**Testing with temperature set to 0.9**"
   ]
  },
  {
   "cell_type": "code",
   "execution_count": 159,
   "metadata": {
    "colab": {
     "base_uri": "https://localhost:8080/",
     "height": 944
    },
    "colab_type": "code",
    "id": "_5z8BguLO24R",
    "outputId": "ed536603-0a2b-45f0-88d1-f7eff9aa8e0c"
   },
   "outputs": [
    {
     "name": "stdout",
     "output_type": "stream",
     "text": [
      "_________________________________________________________________\n",
      "Layer (type)                 Output Shape              Param #   \n",
      "=================================================================\n",
      "conv2d_63 (Conv2D)           (None, 4, 4, 32)          288       \n",
      "_________________________________________________________________\n",
      "conv2d_64 (Conv2D)           (None, 3, 3, 32)          4128      \n",
      "_________________________________________________________________\n",
      "flatten_48 (Flatten)         (None, 288)               0         \n",
      "_________________________________________________________________\n",
      "dense_85 (Dense)             (None, 4)                 1156      \n",
      "=================================================================\n",
      "Total params: 5,572\n",
      "Trainable params: 5,572\n",
      "Non-trainable params: 0\n",
      "_________________________________________________________________\n",
      "None\n"
     ]
    },
    {
     "name": "stderr",
     "output_type": "stream",
     "text": [
      "/usr/local/lib/python3.6/dist-packages/ipykernel_launcher.py:84: UserWarning: Update your `Dense` call to the Keras 2 API: `Dense(24, activation=\"relu\", kernel_initializer=\"uniform\")`\n",
      "/usr/local/lib/python3.6/dist-packages/ipykernel_launcher.py:85: UserWarning: Update your `Dense` call to the Keras 2 API: `Dense(4, activation=\"relu\", kernel_initializer=\"uniform\")`\n"
     ]
    },
    {
     "name": "stdout",
     "output_type": "stream",
     "text": [
      "\n",
      " ___________Test of the CNN_____________\n",
      "Win/lose count 7.0/2.0. Average score (2.5)\n",
      "Win/lose count 5.0/1.0. Average score (3.0)\n",
      "Win/lose count 8.0/0. Average score (4.25)\n",
      "Win/lose count 6.5/1.0. Average score (4.5)\n",
      "Win/lose count 7.0/1.0. Average score (4.75)\n",
      "Win/lose count 6.0/4.0. Average score (4.357142857142857)\n",
      "Win/lose count 9.0/2.0. Average score (4.6875)\n",
      "Win/lose count 4.0/4.0. Average score (4.166666666666667)\n",
      "Win/lose count 9.5/2.0. Average score (4.5)\n",
      "Win/lose count 3.0/2.0. Average score (4.181818181818182)\n",
      "Win/lose count 12.5/2.0. Average score (4.708333333333333)\n",
      "Win/lose count 9.5/1.0. Average score (5.0)\n",
      "Win/lose count 6.0/0. Average score (5.071428571428571)\n",
      "Win/lose count 7.0/0. Average score (5.2)\n",
      "Win/lose count 11.0/1.0. Average score (5.5)\n",
      "Final score: 5.866666666666666\n",
      "\n",
      " _____________Test of the FC___________________\n",
      "Win/lose count 9.0/3.0. Average score (3.0)\n",
      "Win/lose count 9.0/2.0. Average score (4.333333333333333)\n",
      "Win/lose count 11.0/1.0. Average score (5.75)\n",
      "Win/lose count 7.5/2.0. Average score (5.7)\n",
      "Win/lose count 9.5/2.0. Average score (6.0)\n",
      "Win/lose count 8.0/3.0. Average score (5.857142857142857)\n",
      "Win/lose count 4.5/1.0. Average score (5.5625)\n",
      "Win/lose count 8.0/3.0. Average score (5.5)\n",
      "Win/lose count 11.0/4.0. Average score (5.65)\n",
      "Win/lose count 8.5/2.0. Average score (5.7272727272727275)\n",
      "Win/lose count 8.5/1.0. Average score (5.875)\n",
      "Win/lose count 8.5/0. Average score (6.076923076923077)\n",
      "Win/lose count 8.0/2.0. Average score (6.071428571428571)\n",
      "Win/lose count 10.0/1.0. Average score (6.266666666666667)\n",
      "Win/lose count 7.0/2.0. Average score (6.1875)\n",
      "Final score: 6.6\n"
     ]
    }
   ],
   "source": [
    "env = Environment(grid_size=size, max_time=T,temperature=0.9)\n",
    "agent_cnn = DQN_CNN(size, lr=.1, epsilon = 0.1, memory_size=2000, batch_size = 32)\n",
    "agent_cnn.load(name_weights='cnn_train_model.h5',name_model='cnn_train_model.json')\n",
    "\n",
    "agent_fc = DQN_FC(size, lr=.1, epsilon = 0.1, memory_size=2000, batch_size = 32)\n",
    "agent_cnn.load(name_weights='fc_train_model.h5',name_model='fc_train_model.json')\n",
    "print('\\n ___________Test of the CNN_____________')\n",
    "test(agent_cnn,env,epochs_test,prefix='cnn_test')\n",
    "print('\\n _____________Test of the FC___________________')\n",
    "test(agent_fc,env,epochs_test,prefix='fc_test')\n"
   ]
  },
  {
   "cell_type": "markdown",
   "metadata": {
    "colab_type": "text",
    "id": "M4mYiV7rp3qJ"
   },
   "source": [
    "Firstly,  one thing interesting is that the exploration is not well executed, sometime the exploration process is stuck for no positive reward in the agent's vision. In addition,  the results of CNN are more stable than the one of FC. \n",
    "\n",
    "Secondly, we can notice that under different tempetatures(0.3, 0.9), the performances are quite different.\n",
    "\n",
    "With 0.3 temperature, the scores of CNN and FC are much lower than the ones with 0.9 temperature. It seems that the higher teemperature, the better the final score, but we should consider other possible reasons. The one reason of this situation is that the possibility of getting cheese is increased and the possibility of poisonous cells is lowered.  \n",
    "\n"
   ]
  },
  {
   "cell_type": "markdown",
   "metadata": {
    "colab_type": "text",
    "id": "XFWdSrz9Ypzp"
   },
   "source": [
    "***\n",
    "\n",
    "The algorithm tends to not explore the map which can be an issue. We propose two ideas in order to encourage exploration:\n",
    "1. Incorporating a decreasing $\\epsilon$-greedy exploration. You can use the method ```set_epsilon```\n",
    "2. Append via the environment a new state that describes if a cell has been visited or not\n",
    "\n",
    "***\n",
    "__Question 10__ Design a new ```train_explore``` function and environment class ```EnvironmentExploring``` to tackle the issue of exploration.\n",
    "\n"
   ]
  },
  {
   "cell_type": "code",
   "execution_count": 0,
   "metadata": {
    "colab": {},
    "colab_type": "code",
    "id": "JuETideMO3D1"
   },
   "outputs": [],
   "source": [
    "def train_explore(agent,env,epoch,prefix=''):\n",
    "    # Number of won games\n",
    "    score = 0\n",
    "    loss = 0\n",
    "\n",
    "    for e in range(epoch):\n",
    "        # At each epoch, we restart to a fresh game and get the initial state\n",
    "        state = env.reset()\n",
    "        # This assumes that the games will terminate\n",
    "        game_over = False\n",
    "\n",
    "        win = 0\n",
    "        lose = 0\n",
    "\n",
    "        while not game_over:\n",
    "            # The agent performs an action\n",
    "            action = agent.act(state,train=True)\n",
    "\n",
    "            # Apply an action to the environment, get the next state, the reward\n",
    "            # and if the games end\n",
    "            prev_state = state\n",
    "            state, reward, game_over = env.act(action)\n",
    "\n",
    "            # Update the counters\n",
    "            if reward > 0:\n",
    "                win = win + reward\n",
    "            if reward < 0:\n",
    "                lose = lose - reward\n",
    "\n",
    "            # Apply the reinforcement strategy\n",
    "            loss = agent.reinforce(prev_state, state,  action, reward, game_over)\n",
    "\n",
    "        # Save as a mp4\n",
    "        \n",
    "        env.draw(prefix+str(e+1))\n",
    "\n",
    "        # Update stats\n",
    "        score = score + win-lose\n",
    "        \n",
    "\n",
    "        print(\"Epoch {:03d}/{:03d} | Loss {:.4f} | Win/lose count {}/{} ({})\"\n",
    "              .format(e, epoch, loss, win, lose, win-lose))\n",
    "       \n",
    "        agent.save(name_weights=prefix+'model.h5',name_model=prefix+'model.json')\n",
    "      \n",
    "class EnvironmentExploring(object):\n",
    "    def __init__(self, grid_size=10, max_time=500, temperature=0.1):\n",
    "        grid_size = grid_size+4\n",
    "        self.grid_size = grid_size\n",
    "        self.max_time = max_time\n",
    "        self.temperature = temperature\n",
    "\n",
    "        \n",
    "        self.board = np.zeros((grid_size,grid_size))\n",
    "        self.position = np.zeros((grid_size,grid_size))\n",
    "\n",
    "        # coordinate of the rat\n",
    "        self.x = 0\n",
    "        self.y = 1\n",
    "#\n",
    "        self.malus_position = np.zeros((grid_size,grid_size))      \n",
    "#         \n",
    "        # self time\n",
    "        self.t = 0\n",
    "\n",
    "        self.scale=16\n",
    "\n",
    "        self.to_draw = np.zeros((max_time+2, grid_size*self.scale, grid_size*self.scale, 3))\n",
    "\n",
    "\n",
    "    def draw(self,e):\n",
    "        skvideo.io.vwrite(str(e) + '.mp4', self.to_draw)\n",
    "\n",
    "    def get_frame(self,t):\n",
    "        b = np.zeros((self.grid_size,self.grid_size,3))+128\n",
    "        b[self.board>0,0] = 256\n",
    "        b[self.board < 0, 2] = 256\n",
    "        b[self.x,self.y,:]=256\n",
    "        b[-2:,:,:]=0\n",
    "        b[:,-2:,:]=0\n",
    "        b[:2,:,:]=0\n",
    "        b[:,:2,:]=0\n",
    "        \n",
    "        b =  cv2.resize(b, None, fx=self.scale, fy=self.scale, interpolation=cv2.INTER_NEAREST)\n",
    "\n",
    "        self.to_draw[t,:,:,:]=b\n",
    "\n",
    "\n",
    "    def act(self, action):\n",
    "        \"\"\"This function returns the new state, reward and decides if the\n",
    "        game ends.\"\"\"\n",
    "\n",
    "        self.get_frame(int(self.t))\n",
    "\n",
    "        self.position = np.zeros((self.grid_size, self.grid_size))\n",
    "\n",
    "        self.position[0:2,:]= -1\n",
    "        self.position[:,0:2] = -1\n",
    "        self.position[-2:, :] = -1\n",
    "        self.position[:,-2:] = -1\n",
    "\n",
    "        self.position[self.x, self.y] = 1\n",
    "        if action == 0:\n",
    "            if self.x == self.grid_size-3:\n",
    "                self.x = self.x-1\n",
    "            else:\n",
    "                self.x = self.x + 1\n",
    "        elif action == 1:\n",
    "            if self.x == 2:\n",
    "                self.x = self.x+1\n",
    "            else:\n",
    "                self.x = self.x-1\n",
    "        elif action == 2:\n",
    "            if self.y == self.grid_size - 3:\n",
    "                self.y = self.y - 1\n",
    "            else:\n",
    "                self.y = self.y + 1\n",
    "        elif action == 3:\n",
    "            if self.y == 2:\n",
    "                self.y = self.y + 1\n",
    "            else:\n",
    "                self.y = self.y - 1\n",
    "        else:\n",
    "            RuntimeError('Error: action not recognized')\n",
    "\n",
    "        self.t = self.t + 1\n",
    "#       \n",
    "        reward = 0\n",
    "        if train:\n",
    "            reward = -self.malus_position[self.x, self.y]\n",
    "        self.malus_position[self.x, self.y] = 0.1 \n",
    "        reward = reward + self.board[self.x, self.y]\n",
    "#        \n",
    "        self.board[self.x, self.y] = 0\n",
    "        game_over = self.t > self.max_time\n",
    "        \n",
    "        state = np.concatenate((self.malus_position.reshape(self.grid_size, self.grid_size,1), #OK ajouté dans init\n",
    "                                self.board.reshape(self.grid_size, self.grid_size,1), #OK deja dans init\n",
    "                        self.position.reshape(self.grid_size, self.grid_size,1)),axis=2)#OK deja init\n",
    "#        \n",
    "        state = state[self.x-2:self.x+3,self.y-2:self.y+3,:]\n",
    "\n",
    "        return state, reward, game_over\n",
    "\n",
    "    def reset(self):\n",
    "        \"\"\"This function resets the game and returns the initial state\"\"\"\n",
    "\n",
    "        self.x = np.random.randint(3, self.grid_size-3, size=1)[0]\n",
    "        self.y = np.random.randint(3, self.grid_size-3, size=1)[0]\n",
    "\n",
    "\n",
    "        bonus = 0.5*np.random.binomial(1,self.temperature,size=self.grid_size**2)\n",
    "        bonus = bonus.reshape(self.grid_size,self.grid_size)\n",
    "\n",
    "        malus = -1.0*np.random.binomial(1,self.temperature,size=self.grid_size**2)\n",
    "        malus = malus.reshape(self.grid_size, self.grid_size)\n",
    "\n",
    "        self.to_draw = np.zeros((self.max_time+2, self.grid_size*self.scale, self.grid_size*self.scale, 3))\n",
    "\n",
    "\n",
    "        malus[bonus>0]=0\n",
    "\n",
    "        self.board = bonus + malus\n",
    "\n",
    "        self.position = np.zeros((self.grid_size, self.grid_size))\n",
    "        self.position[0:2,:]= -1\n",
    "        self.position[:,0:2] = -1\n",
    "        self.position[-2:, :] = -1\n",
    "        self.position[:,-2:] = -1\n",
    "        self.board[self.x,self.y] = 0\n",
    "        self.t = 0\n",
    "\n",
    "        \n",
    "        state = np.concatenate((self.malus_position.reshape(self.grid_size, self.grid_size,1), #OK ajouté dans init\n",
    "                                        self.board.reshape(self.grid_size, self.grid_size,1), #OK deja dans init\n",
    "                                self.position.reshape(self.grid_size, self.grid_size,1)),axis=2)#OK deja init\n",
    "#\n",
    "        state = state[self.x - 2:self.x + 3, self.y - 2:self.y + 3, :]\n",
    "        return state\n",
    "  \n",
    "    "
   ]
  },
  {
   "cell_type": "code",
   "execution_count": 0,
   "metadata": {
    "colab": {},
    "colab_type": "code",
    "id": "GWnoS6Ruq1Xu"
   },
   "outputs": [],
   "source": [
    "# Parameters\n",
    "size = 13\n",
    "T=200\n",
    "temperature=0.3\n",
    "epochs_train=35\n",
    "epochs_test=15"
   ]
  },
  {
   "cell_type": "code",
   "execution_count": 162,
   "metadata": {
    "colab": {
     "base_uri": "https://localhost:8080/",
     "height": 1028
    },
    "colab_type": "code",
    "id": "_L9lrbKoO3I_",
    "outputId": "e4fbf390-bb03-4e4a-f495-8d5d5ea8b85e"
   },
   "outputs": [
    {
     "name": "stdout",
     "output_type": "stream",
     "text": [
      "_________________________________________________________________\n",
      "Layer (type)                 Output Shape              Param #   \n",
      "=================================================================\n",
      "conv2d_65 (Conv2D)           (None, 4, 4, 32)          416       \n",
      "_________________________________________________________________\n",
      "conv2d_66 (Conv2D)           (None, 3, 3, 32)          4128      \n",
      "_________________________________________________________________\n",
      "flatten_50 (Flatten)         (None, 288)               0         \n",
      "_________________________________________________________________\n",
      "dense_88 (Dense)             (None, 4)                 1156      \n",
      "=================================================================\n",
      "Total params: 5,700\n",
      "Trainable params: 5,700\n",
      "Non-trainable params: 0\n",
      "_________________________________________________________________\n",
      "None\n",
      "Epoch 000/035 | Loss 0.0271 | Win/lose count 7.5/24.70000000000008 (-17.20000000000008)\n",
      "Epoch 001/035 | Loss 0.0019 | Win/lose count 2.6/20.20000000000002 (-17.60000000000002)\n",
      "Epoch 002/035 | Loss 0.0147 | Win/lose count 3.8/23.300000000000058 (-19.500000000000057)\n",
      "Epoch 003/035 | Loss 0.0068 | Win/lose count 8.900000000000002/27.000000000000068 (-18.100000000000065)\n",
      "Epoch 004/035 | Loss 0.0021 | Win/lose count 13.500000000000004/28.20000000000005 (-14.700000000000045)\n",
      "Epoch 005/035 | Loss 0.0688 | Win/lose count 11.0/26.300000000000015 (-15.300000000000015)\n",
      "Epoch 006/035 | Loss 0.0198 | Win/lose count 5.300000000000001/22.700000000000014 (-17.400000000000013)\n",
      "Epoch 007/035 | Loss 0.0092 | Win/lose count 7.000000000000003/35.100000000000136 (-28.100000000000133)\n",
      "Epoch 008/035 | Loss 0.0103 | Win/lose count 4.8/29.70000000000015 (-24.900000000000148)\n",
      "Epoch 009/035 | Loss 0.0051 | Win/lose count 6.400000000000001/34.400000000000105 (-28.000000000000103)\n",
      "Epoch 010/035 | Loss 0.0044 | Win/lose count 7.600000000000002/39.10000000000012 (-31.50000000000012)\n",
      "Epoch 011/035 | Loss 0.0053 | Win/lose count 6.000000000000001/38.600000000000165 (-32.600000000000165)\n",
      "Epoch 012/035 | Loss 0.0053 | Win/lose count 6.800000000000002/36.400000000000155 (-29.600000000000154)\n",
      "Epoch 013/035 | Loss 0.0132 | Win/lose count 7.600000000000002/31.10000000000012 (-23.500000000000117)\n",
      "Epoch 014/035 | Loss 0.0130 | Win/lose count 6.400000000000001/23.500000000000075 (-17.100000000000072)\n",
      "Epoch 015/035 | Loss 0.0060 | Win/lose count 7.600000000000002/36.20000000000017 (-28.600000000000172)\n",
      "Epoch 016/035 | Loss 0.0059 | Win/lose count 7.600000000000002/30.20000000000015 (-22.600000000000147)\n",
      "Epoch 017/035 | Loss 0.0049 | Win/lose count 11.600000000000005/37.20000000000017 (-25.60000000000017)\n",
      "Epoch 018/035 | Loss 0.0084 | Win/lose count 7.600000000000002/36.20000000000014 (-28.600000000000136)\n",
      "Epoch 019/035 | Loss 0.0348 | Win/lose count 6.000000000000001/35.60000000000013 (-29.60000000000013)\n",
      "Epoch 020/035 | Loss 0.0022 | Win/lose count 8.800000000000002/32.900000000000084 (-24.10000000000008)\n",
      "Epoch 021/035 | Loss 0.0542 | Win/lose count 10.000000000000004/30.60000000000013 (-20.600000000000126)\n",
      "Epoch 022/035 | Loss 0.0055 | Win/lose count 8.800000000000002/30.900000000000098 (-22.100000000000094)\n",
      "Epoch 023/035 | Loss 0.0553 | Win/lose count 7.600000000000002/27.200000000000074 (-19.600000000000072)\n",
      "Epoch 024/035 | Loss 0.0051 | Win/lose count 7.600000000000002/33.20000000000014 (-25.600000000000136)\n",
      "Epoch 025/035 | Loss 0.0590 | Win/lose count 7.600000000000002/35.20000000000012 (-27.600000000000115)\n",
      "Epoch 026/035 | Loss 0.0730 | Win/lose count 7.200000000000002/27.30000000000009 (-20.100000000000087)\n",
      "Epoch 027/035 | Loss 0.0069 | Win/lose count 8.000000000000002/27.100000000000083 (-19.10000000000008)\n",
      "Epoch 028/035 | Loss 0.0116 | Win/lose count 5.6000000000000005/21.700000000000028 (-16.100000000000026)\n",
      "Epoch 029/035 | Loss 0.0050 | Win/lose count 13.200000000000006/31.8000000000001 (-18.600000000000094)\n",
      "Epoch 030/035 | Loss 0.0107 | Win/lose count 8.400000000000002/28.000000000000103 (-19.6000000000001)\n",
      "Epoch 031/035 | Loss 0.0659 | Win/lose count 7.200000000000002/26.300000000000068 (-19.100000000000065)\n",
      "Epoch 032/035 | Loss 0.0064 | Win/lose count 3.1999999999999997/24.300000000000082 (-21.100000000000083)\n",
      "Epoch 033/035 | Loss 0.0071 | Win/lose count 6.000000000000001/26.6000000000001 (-20.6000000000001)\n",
      "Epoch 034/035 | Loss 0.0719 | Win/lose count 6.400000000000001/35.50000000000014 (-29.10000000000014)\n"
     ]
    },
    {
     "data": {
      "text/html": [
       "<video alt=\"test\" controls>\n",
       "                <source src=\"data:video/mp4;base64,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\" type=\"video/mp4\" />\n",
       "             </video>"
      ],
      "text/plain": [
       "<IPython.core.display.HTML object>"
      ]
     },
     "execution_count": 162,
     "metadata": {
      "tags": []
     },
     "output_type": "execute_result"
    }
   ],
   "source": [
    "# Training\n",
    "env = EnvironmentExploring(grid_size=size, max_time=T, temperature=0.3)\n",
    "agent = DQN_CNN(size, lr=.1, epsilon = 0.1, memory_size=2000, batch_size = 32,n_state=3)\n",
    "train_explore(agent, env, epochs_train, prefix='cnn_train_explore')\n",
    "HTML(display_videos('cnn_train_explore35.mp4'))"
   ]
  },
  {
   "cell_type": "code",
   "execution_count": 163,
   "metadata": {
    "colab": {
     "base_uri": "https://localhost:8080/",
     "height": 440
    },
    "colab_type": "code",
    "id": "YgxXmgMgO3MN",
    "outputId": "fecba668-d45b-4872-ecc8-5494a857200d"
   },
   "outputs": [
    {
     "name": "stdout",
     "output_type": "stream",
     "text": [
      "Win/lose count 4.3999999999999995/24.00000000000005. Average score (-9.800000000000026)\n",
      "Win/lose count 2.4/21.500000000000043. Average score (-12.900000000000032)\n",
      "Win/lose count 3.9999999999999996/23.100000000000062. Average score (-14.450000000000038)\n",
      "Win/lose count 5.6000000000000005/25.700000000000077. Average score (-15.580000000000046)\n",
      "Win/lose count 2.0/21.600000000000023. Average score (-16.250000000000043)\n",
      "Win/lose count 1.2000000000000002/20.800000000000026. Average score (-16.728571428571467)\n",
      "Win/lose count 4.8/26.900000000000116. Average score (-17.40000000000005)\n",
      "Win/lose count 0.4/23.000000000000057. Average score (-17.977777777777828)\n",
      "Win/lose count 2.4/22.500000000000053. Average score (-18.190000000000047)\n",
      "Win/lose count 4.3999999999999995/23.000000000000068. Average score (-18.227272727272776)\n",
      "Win/lose count 2.8/22.40000000000005. Average score (-18.341666666666715)\n",
      "Win/lose count 2.8/22.40000000000006. Average score (-18.43846153846159)\n",
      "Win/lose count 3.1999999999999997/28.300000000000093. Average score (-18.914285714285768)\n",
      "Win/lose count 0.8/20.900000000000027. Average score (-18.993333333333386)\n",
      "Win/lose count 0.8/22.90000000000006. Average score (-19.18750000000005)\n",
      "Final score: -20.46666666666672\n"
     ]
    },
    {
     "data": {
      "text/html": [
       "<video alt=\"test\" controls>\n",
       "                <source src=\"data:video/mp4;base64,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\" type=\"video/mp4\" />\n",
       "             </video>"
      ],
      "text/plain": [
       "<IPython.core.display.HTML object>"
      ]
     },
     "execution_count": 163,
     "metadata": {
      "tags": []
     },
     "output_type": "execute_result"
    }
   ],
   "source": [
    "# Evaluation\n",
    "test(agent,env,epochs_test,prefix='cnn_test_explore_')\n",
    "HTML(display_videos('cnn_test_explore_15.mp4'))"
   ]
  },
  {
   "cell_type": "code",
   "execution_count": 0,
   "metadata": {
    "colab": {},
    "colab_type": "code",
    "id": "b2v7wwNRO3QD"
   },
   "outputs": [],
   "source": []
  }
 ],
 "metadata": {
  "colab": {
   "name": "Copy of Copy of Untitled0.ipynb",
   "provenance": [],
   "version": "0.3.2"
  },
  "kernelspec": {
   "display_name": "Python 3",
   "language": "python",
   "name": "python3"
  },
  "language_info": {
   "codemirror_mode": {
    "name": "ipython",
    "version": 3
   },
   "file_extension": ".py",
   "mimetype": "text/x-python",
   "name": "python",
   "nbconvert_exporter": "python",
   "pygments_lexer": "ipython3",
   "version": "3.6.5"
  }
 },
 "nbformat": 4,
 "nbformat_minor": 1
}
